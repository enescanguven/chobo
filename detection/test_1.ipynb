{
 "cells": [
  {
   "cell_type": "code",
   "execution_count": 1,
   "metadata": {},
   "outputs": [
    {
     "name": "stdout",
     "output_type": "stream",
     "text": [
      "loading Roboflow workspace...\n",
      "loading Roboflow project...\n",
      "['şeker', 'süt', 'un', 'tereyağı', 'peynir', 'muz']\n"
     ]
    }
   ],
   "source": [
    "from roboflow import Roboflow\n",
    "rf = Roboflow(api_key=\"cXvQYarU4cip5KQ73rfJ\")\n",
    "\n",
    "project = rf.workspace().project(\"aicook-lcv4d\")\n",
    "model = project.version(3).model\n",
    "\n",
    "predictions = model.predict(\"dolap_1.jpeg\", confidence=25, overlap=30).json()\n",
    "dictionary = {'apple': 'elma', 'banana': 'muz', 'beef': 'biftek', 'blueberries': 'yaban mersini', 'bread': 'ekmek', 'butter': 'tereyağı', 'carrot': 'havuç', 'cheese': 'peynir', 'chicken': 'tavuk', 'chicken_breast': 'tavuk göğsü', 'chocolate': 'çikolata', 'corn': 'Mısır', 'eggs': 'yumurtalar', 'flour': 'un', 'goat_cheese': 'Keçi peyniri', 'green_beans': 'taze fasulye', 'ground_beef': 'dana kıyma', 'ham': 'jambon', 'heavy_cream': 'yoğun krema', 'lime': 'kireç', 'milk': 'süt', 'mushrooms': 'mantarlar', 'onion': 'soğan', 'potato': 'patates', 'shrimp': 'karides', 'spinach': 'ıspanak', 'strawberries': 'çilekler', 'sugar': 'şeker', 'sweet_potato': 'tatlı patates', 'tomato': 'domates'}\n",
    "ingredients = list(set([dictionary[p['class']] for p in predictions['predictions']]))\n",
    "print(ingredients)\n",
    "\n"
   ]
  }
 ],
 "metadata": {
  "kernelspec": {
   "display_name": "Python 3",
   "language": "python",
   "name": "python3"
  },
  "language_info": {
   "codemirror_mode": {
    "name": "ipython",
    "version": 3
   },
   "file_extension": ".py",
   "mimetype": "text/x-python",
   "name": "python",
   "nbconvert_exporter": "python",
   "pygments_lexer": "ipython3",
   "version": "3.10.6"
  },
  "orig_nbformat": 4
 },
 "nbformat": 4,
 "nbformat_minor": 2
}
